{
 "cells": [
  {
   "cell_type": "markdown",
   "metadata": {},
   "source": [
    "Previous: [The Linear Programming Problem](03.ipynb) | [Table of Contents](00.ipynb) | Next: [Issues Related to Curran's Methodology](05.ipynb)"
   ]
  },
  {
   "cell_type": "markdown",
   "metadata": {},
   "source": [
    "# The Willow Tree Lattice Handbook\n",
    "\n",
    "## The Discrete Process $Y$\n",
    "\n",
    "If each linear programming problem leads to a solution, the discrete Markov process $Y$, obtained by linking the nodes on grid $\\mathbf{G}$ through transition probabilities, converges to a standard Brownian motion, as the number of states goes to infinity, $m\\to\\infty$, and the length of the time steps becomes infinitesimal, $h\\to0$. The double limit is required, because, unlike for the binomial model, there is no connection between the space and the time dimensions.\n",
    "\n",
    "Each realised sequence of the process, $\\big\\{Y_{t_k}\\big\\}_{k=0}^{n}$, is a path in the lattice structure.\n",
    "\n",
    "#### Figure 3: Anatomy of a Willow Tree\n",
    "![anatomy-of-the-willow-tree](../handbook/img/figure-4.png)\n",
    "\n",
    "- At each time step, $m$ representative variates are selected through stratified sampling from a Gaussian distribution whose variance in $t_k$ is equal to the length of the time period, so that $Z_k\\sim\\sqrt{t_k}\\mathcal{N}\\big(0,1\\big)=\\mathcal{N}\\big(0,t_k\\big)$.\n",
    "\n",
    "\n",
    "- Compared to the one in the previous period, the variance in $t_k$ increases by $h_{k-1,k}=t_k-t_{k-1}$ because, from $t_k = \\sum_{j=1}^k h_{j-1,j}$, the variance in $t_k$ is a sum of all the increments up to that point, so $Z_k\\sim\\sqrt{\\sum_{j=1}^k h_{j-1,j}}\\mathcal{N}\\big(0,1\\big)=\\mathcal{N}\\big(0,\\sum_{j=1}^k h_{j-1,j}\\big)$. As a consequence, the distributions expand as time flows.\n",
    "\n",
    "\n",
    "- The movements between adjacent time periods are governed by transition matrices. In the first time step the probabilities are stored in vector $\\mathbf{q}$. Hence, at time $t_1$, process $Y$ will take on value $z_i\\sqrt{t_1}$ if $X_1$ is in state $i$, with probability $q_i$. From the second step onwards, the transitions depend on matrices $\\big\\{\\mathbf{P}^{(k)}\\big\\}_{k=1}^{n-1}$.\n",
    "\n",
    "> __Figure 3__ provides a graphical representation of the overall procedure, with $m=11$ and $n=4$. At time $t_1$, $X_1$ is in state 2, with $\\mathbb{P}\\big(X_1=2\\mid x_0=0\\big)=q_2$, so that $Y_1=z_2\\sqrt{t_1}$. At time $t_2$, $X_2$ is in state 9, with $\\mathbb{P}\\big(X_2=9\\mid x_1=2\\big)=p_{29}^1$, and $Y_2=z_9\\sqrt{t_2}$. Finally, at time $t_3$, $X_3$ is in state 6, with $\\mathbb{P}\\big(X_3=6\\mid x_2=9\\big)=p_{96}^2$, and $Y_3=z_6\\sqrt{t_3}$."
   ]
  },
  {
   "cell_type": "markdown",
   "metadata": {},
   "source": [
    "Previous: [The Linear Programming Problem](03.ipynb) | [Table of Contents](00.ipynb) | Next: [Issues Related to Curran's Methodology](05.ipynb)"
   ]
  }
 ],
 "metadata": {
  "kernelspec": {
   "display_name": "Python [default]",
   "language": "python",
   "name": "python3"
  },
  "language_info": {
   "codemirror_mode": {
    "name": "ipython",
    "version": 3
   },
   "file_extension": ".py",
   "mimetype": "text/x-python",
   "name": "python",
   "nbconvert_exporter": "python",
   "pygments_lexer": "ipython3",
   "version": "3.6.2"
  }
 },
 "nbformat": 4,
 "nbformat_minor": 2
}
