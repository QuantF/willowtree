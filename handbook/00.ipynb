{
 "cells": [
  {
   "cell_type": "markdown",
   "metadata": {},
   "source": [
    "# The Willow Tree Lattice Handbook\n",
    "__Federico Maria Massari / federico.massari@bocconialumni.it__\n",
    "\n",
    "This is the companion handbook to the willow tree [GitHub repository](https://github.com/federicomariamassari/willowtree). It is a series of Jupyter notebooks.\n",
    "\n",
    "## Table of Contents\n",
    "\n",
    "\\* currently missing section.\n",
    "\n",
    "### [Overview and Selected Literature](01.ipynb)\n",
    "Features of the lattice and selected papers on the topic.\n",
    "\n",
    "### [Mathematical Development of the Tree](02.ipynb)\n",
    "Curran's original algorithm in two steps. Step 1: setting up the grid. Step 2: linking the states through time using a Markov chain.\n",
    "\n",
    "### [The Linear Programming Problem](03.ipynb)\n",
    "Definition of a suitable Markov chain through linear programming.\n",
    "\n",
    "### [The Discrete Process Y](04.ipynb)\n",
    "The end product: process $Y$, a discretised version of the standard Brownian motion.\n",
    "\n",
    "### [Issues Related to Curran's Methodology](05.ipynb)\n",
    "Problems of the original algorithm and related solution.\n",
    "\n",
    "### [Xu, Hong, and Qin's Methodology](06.ipynb)\n",
    "Improved sampling strategies for the discrete density pairs. \n",
    "\n",
    "### [Applications to Derivatives Pricing](07.ipynb)\n",
    "Willow tree pricing of European and American plain vanilla options.\n",
    "\n",
    "### [The Willow Tree: A Brief Recap](08.ipynb)\n",
    "Comparison between the willow tree and the binomial model.\n",
    "\n",
    "### [The Willow Tree in Python, part 1](09.ipynb) \\*\n",
    "A Python implementation of the willow tree. Part 1: sampling strategies.\n",
    "\n",
    "### [The Willow Tree in Python, part 2](10.ipynb) \\*\n",
    "A Python implementation of the willow tree. Part 2: linear programming problem.\n",
    "\n",
    "### [The Willow Tree in Python, part 3](11.ipynb) \\*\n",
    "A Python implementation of the willow tree. Part 3: graphical representation.\n",
    "\n",
    "### [Well-Behaved Transition Matrices](12.ipynb) \\*\n",
    "Test of consistency for the solution to the linear programming problem.\n",
    "\n",
    "### [Bibliography](99.ipynb)"
   ]
  }
 ],
 "metadata": {
  "kernelspec": {
   "display_name": "Python [default]",
   "language": "python",
   "name": "python3"
  },
  "language_info": {
   "codemirror_mode": {
    "name": "ipython",
    "version": 3
   },
   "file_extension": ".py",
   "mimetype": "text/x-python",
   "name": "python",
   "nbconvert_exporter": "python",
   "pygments_lexer": "ipython3",
   "version": "3.6.2"
  }
 },
 "nbformat": 4,
 "nbformat_minor": 2
}
