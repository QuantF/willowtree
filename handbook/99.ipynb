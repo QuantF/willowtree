{
 "cells": [
  {
   "cell_type": "markdown",
   "metadata": {},
   "source": [
    "[Table of Contents](00.ipynb)"
   ]
  },
  {
   "cell_type": "markdown",
   "metadata": {},
   "source": [
    "# The Willow Tree Lattice Handbook\n",
    "\n",
    "## Bibliography\n",
    "\n",
    "\n",
    "#### On the Willow Tree and Derivatives\n",
    "\n",
    "[1] Acott, D. (2005): [American Equity Option Pricing: Numerical Approximation Techniques in RiskWatch](http://www.riskworx.com/insights/aeopricing.pdf). Technical report, RiskWorX (Pty) Ltd.\n",
    "\n",
    "[2] Curran, M. (1994): Strata Gems, Risk, 7(3): 70–71, March.\n",
    "\n",
    "[3] Curran, M. and Hu, Z. (1998): [The Willow Tree](http://www.globalcapital.com/article/k6bvnr3z4km3/the-willow-tree). Learning Curve, Derivatives Week, June 2001.\n",
    "\n",
    "[4] Curran, M. (2001): [Willow Power: Optimizing Derivatives Pricing Trees](https://www.researchgate.net/publication/228291194_Willow_Power_Optimizing_Derivative_Pricing_Trees). IBM Algo Research Quarterly, December 2001, 4(4): 15–24. Previously: Curran, M. (1998). Willow Power. Technical report, RiskCare Limited, London.\n",
    "\n",
    "[5] Ghosh, I. (2008). Note on Markov Chains. Computational Methods in Economics and Finance.\n",
    "\n",
    "\n",
    "[6] Glasserman, P. (2003): Monte Carlo Methods in Financial Engineering. Applications of Mathematics, Stochastic Modelling and Applied Probability, Vol. 53, Springer, ISBN: `978-0-387-21617-1`\n",
    "\n",
    "[7] Haussmann, U. G. and Yan, L. (2005): [The Modified Willow Tree Algorithm](https://pdfs.semanticscholar.org/6667/451c8874825c8d4dfa01973bf1359fff89fa.pdf). The Journal of Computational Finance, Spring 2005, 8(3): 63–80.\n",
    "\n",
    "[8] Ho, A. C. T. (2000): [Willow Tree](https://open.library.ubc.ca/cIRcle/collections/ubctheses/831/items/1.0080017). Master of Science Thesis in Mathematics, University of British Columbia.\n",
    "\n",
    "[9] Hull, J. C. (2014): Options, Futures, And Other Derivatives, 9th Edition. Prentice Hall, January. ISBN: `978-0-133-45631-8`\n",
    "\n",
    "[10] Lévêque, O. (2011). [Lecture Notes on Markov Chains](http://www.hamilton.ie/ollie/Downloads/Mar1.pdf). National University of Ireland, Maynooth, August 2011.\n",
    "\n",
    "[11] Lu, L., Xu, W. and Qian, Z. (2015): [Efficient Convergent Lattice Method for Asian Options Pricing with Superlinear Complexity](https://www.researchgate.net/publication/277776579_Efficient_Convergent_Lattice_Method_for_Asian_Options_Pricing_with_Superlinear_Complexity). Journal of Computational Finance, April 2017, 20(4): 1–38.\n",
    "\n",
    "[12] Lu, L., Xu, W. and Qian, Z. (2016): [Efficient Willow Tree Method for European-style and American-style Moving Average Barrier Options Pricing](https://www.researchgate.net/publication/306891376_Efficient_Willow_Tree_Method_for_European-style_and_American-style_Moving_Average_Barrier_Options_Pricing). Quantitative Finance, 2017, 17(6): 889–906.\n",
    "\n",
    "[13] Simon, C. P. and Blume, L. (1994): Mathematics for Economists. W. W. Norton & Company, Inc., 1994. ISBN: `978-0-393-95733-4`\n",
    "\n",
    "[14] Xu, W., Hong, Z. and Qin, C. (2013): [A New Sampling Strategy Willow Tree Method With Application To Path-Dependent Option Pricing](https://www.researchgate.net/publication/263268910_A_new_sampling_strategy_willow_tree_method_with_application_to_path-dependent_option_pricing). Quantitative Finance, March 2013, 13(6): 861–872.\n",
    "\n",
    "[15] Xu, W. and Yin, Y. (2014): [Pricing American Options by Willow Tree Method Under Jump-Diffusion Process](https://www.researchgate.net/publication/265013131_Pricing_American_Options_by_Willow_Tree_Method_Under_Jump-Diffusion_Process?ev=prf_high). The Journal of Derivatives, Fall 2014, 22(1): 1–9.\n",
    "\n",
    "[16] Xu, W. and Wang, G. (2017): [A Unified Willow Tree Framework for One-Factor Short Rate Models and Applications](https://www.researchgate.net/publication/312622086_A_Unified_Willow_Tree_Framework_for_One-Factor_Short_Rate_Models_and_Applications).\n",
    "\n",
    "[17] Xu, W. and Lu, L. (2017): [A Simple and Efficient Two-Factor Willow Tree Method for Convertible Bond Pricing with Stochastic Interest Rate and Default Risk](https://www.researchgate.net/publication/312622137_A_Simple_and_Efficient_Two-Factor_Willow_Tree_Method_for_Convertible_Bond_Pricing_with_Stochastic_Interest_Rate_and_Default_Risk). The Journal of Derivatives, September 2017.\n",
    "\n",
    "#### On Python and its Related Libraries\n",
    "\n",
    "[18] Lutz, M. (2013): Learning Python, 5th Edition. O’Reilly Media, Inc., ISBN: `978-1-449-35573-9`\n",
    "\n",
    "[19] VanderPlas, J. (2016): [A Whirlwind Tour of Python](http://nbviewer.jupyter.org/github/jakevdp/WhirlwindTourOfPython/blob/master/Index.ipynb). O’Reilly Media, Inc., ISBN: `978-1-491-96465-1`\n",
    "\n",
    "[20] VanderPlas, J. (2016): [Python Data Science Handbook, Essential Tools for Working with Data](http://nbviewer.jupyter.org/github/jakevdp/PythonDataScienceHandbook/blob/master/notebooks/Index.ipynb). O’Reilly Media, Inc., ISBN: `978-1-491-91205-8`"
   ]
  },
  {
   "cell_type": "markdown",
   "metadata": {},
   "source": [
    "[Table of Contents](00.ipynb)"
   ]
  }
 ],
 "metadata": {
  "kernelspec": {
   "display_name": "Python [default]",
   "language": "python",
   "name": "python3"
  },
  "language_info": {
   "codemirror_mode": {
    "name": "ipython",
    "version": 3
   },
   "file_extension": ".py",
   "mimetype": "text/x-python",
   "name": "python",
   "nbconvert_exporter": "python",
   "pygments_lexer": "ipython3",
   "version": "3.6.1"
  }
 },
 "nbformat": 4,
 "nbformat_minor": 2
}
