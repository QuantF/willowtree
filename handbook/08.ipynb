{
 "cells": [
  {
   "cell_type": "markdown",
   "metadata": {},
   "source": [
    "Previous: [Applications to Derivatives Pricing](07.ipynb) | [Table of Contents](00.ipynb) | Next: [The Willow Tree in Python, part 1](09.ipynb)"
   ]
  },
  {
   "cell_type": "markdown",
   "metadata": {},
   "source": [
    "# The Willow Tree Lattice Handbook\n",
    "\n",
    "## The Willow Tree: A Brief Recap\n",
    "\n",
    "Here follows a comparison between the willow tree and the binomial model, one of the most widespread lattices in finance [1]:\n",
    "\n",
    "\n",
    "- Binomial trees set up a discrete, arbitrage-free economy that approximates the assumed continuous-time economy. In such discrete economy, it is possible to solve otherwise intractable option prices. Willow trees are explicitly designed for efficient valuation of derivatives. They focus on fast and accurate convergence, and let go of the costly explanatory benefits of an underlying economy.\n",
    "\n",
    "\n",
    "- Binomial trees are a tool to approximate the geometric Brownian motion. Willow trees focus on the standard Brownian motion. As a consequence, the latter are very flexible, and can be applied to a much wider variety of financial contracts.\n",
    "\n",
    "\n",
    "- Binomial models expand linearly in time, because each time point $t_i=i\\Delta t$, with $i\\in\\mathbb{N}$. Willow trees expand as the square root of time.\n",
    "\n",
    "\n",
    "- Binomial models have nodes that grow in number at each subsequent time step. Willow trees have a constant number of nodes per time step. The speed advantage of the willow tree algorithm increases in $d$-factor models [6], especially with $d$ > 3.\n",
    "\n",
    "\n",
    "- Binomial models increasingly locate nodes within the tails of the unconditional distribution of the stock price process. Valuing derivatives in such framework is inefficient, because the tails have little impact on the determination of the current price. Willow trees constrain the nodes within a set confidence interval of the distribution. Valuing derivatives in such framework is efficient.\n",
    "\n",
    "\n",
    "- Binomial trees link spatial and temporal steps length, which are summarised by $\\Delta t$. Letting $\\Delta t\\to0$ is enough to ensure convergence. Willow trees convergence requires to both increase the number of nodes in the space dimension, $n\\to+\\infty$, and to decrease the time steps, $h\\to0$.\n",
    "\n",
    "\n",
    "- Binomial trees have steps of equivalent size, $\\Delta t$. Willow trees may have unequal time steps."
   ]
  },
  {
   "cell_type": "markdown",
   "metadata": {},
   "source": [
    "Previous: [Applications to Derivatives Pricing](07.ipynb) | [Table of Contents](00.ipynb) | Next: [The Willow Tree in Python, part 1](09.ipynb)"
   ]
  }
 ],
 "metadata": {
  "kernelspec": {
   "display_name": "Python [default]",
   "language": "python",
   "name": "python3"
  },
  "language_info": {
   "codemirror_mode": {
    "name": "ipython",
    "version": 3
   },
   "file_extension": ".py",
   "mimetype": "text/x-python",
   "name": "python",
   "nbconvert_exporter": "python",
   "pygments_lexer": "ipython3",
   "version": "3.6.2"
  }
 },
 "nbformat": 4,
 "nbformat_minor": 2
}
